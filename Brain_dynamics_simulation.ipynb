{
 "cells": [
  {
   "cell_type": "code",
   "execution_count": 1,
   "metadata": {},
   "outputs": [],
   "source": [
    "import csv\n",
    "import numpy as np\n",
    "from numpy import savetxt\n",
    "from scipy import integrate\n",
    "import matplotlib.pyplot as plt"
   ]
  },
  {
   "cell_type": "code",
   "execution_count": 2,
   "metadata": {},
   "outputs": [],
   "source": [
    "#Parameters\n",
    "##System parameters \n",
    "\n",
    "theta = 0.5\n",
    "steps = 10\n",
    "time_step = 0.01\n",
    "t = np.linspace(0, steps, int(steps/time_step))\n",
    "g_init = 6 #initial bifurcation param\n",
    "noise = 0.02\n",
    "\n",
    "# initial state of 3-node system\n",
    "y_1_0 = 0\n",
    "y_2_0 = 0\n",
    "y_3_0 =0\n",
    "y_init = (y_1_0, y_2_0, y_2_0)\n",
    "\n",
    "# stimulation parameters\n",
    "z_init = 0\n"
   ]
  },
  {
   "cell_type": "code",
   "execution_count": 2,
   "metadata": {},
   "outputs": [
    {
     "name": "stdout",
     "output_type": "stream",
     "text": [
      "Collecting notebook-as-pdf\n",
      "  Using cached notebook_as_pdf-0.5.0-py3-none-any.whl (6.5 kB)\n",
      "Collecting nbconvert\n",
      "  Using cached nbconvert-6.1.0-py3-none-any.whl (551 kB)\n",
      "Collecting PyPDF2\n",
      "  Using cached PyPDF2-1.26.0.tar.gz (77 kB)\n",
      "Collecting pyppeteer\n",
      "  Using cached pyppeteer-0.2.6-py3-none-any.whl (83 kB)\n",
      "Collecting traitlets>=5.0\n",
      "  Using cached traitlets-5.1.0-py3-none-any.whl (101 kB)\n",
      "Collecting nbclient<0.6.0,>=0.5.0\n",
      "  Using cached nbclient-0.5.4-py3-none-any.whl (66 kB)\n",
      "Collecting nbformat>=4.4\n",
      "  Using cached nbformat-5.1.3-py3-none-any.whl (178 kB)\n",
      "Collecting pandocfilters>=1.4.1\n",
      "  Using cached pandocfilters-1.5.0-py2.py3-none-any.whl (8.7 kB)\n",
      "Collecting jinja2>=2.4\n",
      "  Using cached Jinja2-3.0.1-py3-none-any.whl (133 kB)\n",
      "Collecting bleach\n",
      "  Using cached bleach-4.1.0-py2.py3-none-any.whl (157 kB)\n",
      "Collecting jupyterlab-pygments\n",
      "  Using cached jupyterlab_pygments-0.1.2-py2.py3-none-any.whl (4.6 kB)\n",
      "Collecting jupyter-core\n",
      "  Using cached jupyter_core-4.8.1-py3-none-any.whl (86 kB)\n",
      "Collecting pygments>=2.4.1\n",
      "  Using cached Pygments-2.10.0-py3-none-any.whl (1.0 MB)\n",
      "Collecting testpath\n",
      "  Using cached testpath-0.5.0-py3-none-any.whl (84 kB)\n",
      "Collecting entrypoints>=0.2.2\n",
      "  Using cached entrypoints-0.3-py2.py3-none-any.whl (11 kB)\n",
      "Collecting defusedxml\n",
      "  Using cached defusedxml-0.7.1-py2.py3-none-any.whl (25 kB)\n",
      "Collecting mistune<2,>=0.8.1\n",
      "  Using cached mistune-0.8.4-py2.py3-none-any.whl (16 kB)\n",
      "Collecting urllib3<2.0.0,>=1.25.8\n",
      "  Using cached urllib3-1.26.6-py2.py3-none-any.whl (138 kB)\n",
      "Collecting appdirs<2.0.0,>=1.4.3\n",
      "  Using cached appdirs-1.4.4-py2.py3-none-any.whl (9.6 kB)\n",
      "Collecting importlib-metadata>=1.4\n",
      "  Using cached importlib_metadata-4.8.1-py3-none-any.whl (17 kB)\n",
      "Collecting websockets<10.0,>=9.1\n",
      "  Downloading websockets-9.1-cp38-cp38-macosx_10_9_x86_64.whl (88 kB)\n",
      "\u001b[K     |████████████████████████████████| 88 kB 1.4 MB/s eta 0:00:01\n",
      "\u001b[?25hCollecting pyee<9.0.0,>=8.1.0\n",
      "  Using cached pyee-8.2.2-py2.py3-none-any.whl (12 kB)\n",
      "Collecting tqdm<5.0.0,>=4.42.1\n",
      "  Using cached tqdm-4.62.2-py2.py3-none-any.whl (76 kB)\n",
      "Collecting nest-asyncio\n",
      "  Using cached nest_asyncio-1.5.1-py3-none-any.whl (5.0 kB)\n",
      "Collecting jupyter-client>=6.1.5\n",
      "  Using cached jupyter_client-7.0.3-py3-none-any.whl (122 kB)\n",
      "Collecting jsonschema!=2.5.0,>=2.4\n",
      "  Using cached jsonschema-3.2.0-py2.py3-none-any.whl (56 kB)\n",
      "Collecting ipython-genutils\n",
      "  Using cached ipython_genutils-0.2.0-py2.py3-none-any.whl (26 kB)\n",
      "Collecting MarkupSafe>=2.0\n",
      "  Downloading MarkupSafe-2.0.1-cp38-cp38-macosx_10_9_x86_64.whl (13 kB)\n",
      "Collecting packaging\n",
      "  Using cached packaging-21.0-py3-none-any.whl (40 kB)\n",
      "Collecting six>=1.9.0\n",
      "  Using cached six-1.16.0-py2.py3-none-any.whl (11 kB)\n",
      "Collecting webencodings\n",
      "  Using cached webencodings-0.5.1-py2.py3-none-any.whl (11 kB)\n",
      "Collecting zipp>=0.5\n",
      "  Using cached zipp-3.5.0-py3-none-any.whl (5.7 kB)\n",
      "Collecting tornado>=4.1\n",
      "  Downloading tornado-6.1-cp38-cp38-macosx_10_9_x86_64.whl (416 kB)\n",
      "\u001b[K     |████████████████████████████████| 416 kB 3.2 MB/s eta 0:00:01\n",
      "\u001b[?25hCollecting python-dateutil>=2.1\n",
      "  Downloading python_dateutil-2.8.2-py2.py3-none-any.whl (247 kB)\n",
      "\u001b[K     |████████████████████████████████| 247 kB 6.0 MB/s eta 0:00:01\n",
      "\u001b[?25hCollecting pyzmq>=13\n",
      "  Downloading pyzmq-22.3.0-cp38-cp38-macosx_10_9_x86_64.whl (1.3 MB)\n",
      "\u001b[K     |████████████████████████████████| 1.3 MB 10.2 MB/s eta 0:00:01\n",
      "\u001b[?25hCollecting attrs>=17.4.0\n",
      "  Using cached attrs-21.2.0-py2.py3-none-any.whl (53 kB)\n",
      "Requirement already satisfied, skipping upgrade: setuptools in /Users/maria_p/.pyenv/versions/3.8.7/lib/python3.8/site-packages (from jsonschema!=2.5.0,>=2.4->nbformat>=4.4->nbconvert->notebook-as-pdf) (49.2.1)\n",
      "Collecting pyrsistent>=0.14.0\n",
      "  Downloading pyrsistent-0.18.0-cp38-cp38-macosx_10_9_x86_64.whl (68 kB)\n",
      "\u001b[K     |████████████████████████████████| 68 kB 3.4 MB/s eta 0:00:01\n",
      "\u001b[?25hCollecting pyparsing>=2.0.2\n",
      "  Using cached pyparsing-2.4.7-py2.py3-none-any.whl (67 kB)\n",
      "Using legacy 'setup.py install' for PyPDF2, since package 'wheel' is not installed.\n",
      "Installing collected packages: traitlets, attrs, six, pyrsistent, jsonschema, ipython-genutils, jupyter-core, nbformat, nest-asyncio, tornado, python-dateutil, pyzmq, entrypoints, jupyter-client, nbclient, pandocfilters, MarkupSafe, jinja2, pyparsing, packaging, webencodings, bleach, pygments, jupyterlab-pygments, testpath, defusedxml, mistune, nbconvert, PyPDF2, urllib3, appdirs, zipp, importlib-metadata, websockets, pyee, tqdm, pyppeteer, notebook-as-pdf\n",
      "    Running setup.py install for PyPDF2 ... \u001b[?25ldone\n",
      "\u001b[?25hSuccessfully installed MarkupSafe-2.0.1 PyPDF2-1.26.0 appdirs-1.4.4 attrs-21.2.0 bleach-4.1.0 defusedxml-0.7.1 entrypoints-0.3 importlib-metadata-4.8.1 ipython-genutils-0.2.0 jinja2-3.0.1 jsonschema-3.2.0 jupyter-client-7.0.3 jupyter-core-4.8.1 jupyterlab-pygments-0.1.2 mistune-0.8.4 nbclient-0.5.4 nbconvert-6.1.0 nbformat-5.1.3 nest-asyncio-1.5.1 notebook-as-pdf-0.5.0 packaging-21.0 pandocfilters-1.5.0 pyee-8.2.2 pygments-2.10.0 pyparsing-2.4.7 pyppeteer-0.2.6 pyrsistent-0.18.0 python-dateutil-2.8.2 pyzmq-22.3.0 six-1.16.0 testpath-0.5.0 tornado-6.1 tqdm-4.62.2 traitlets-5.1.0 urllib3-1.26.6 webencodings-0.5.1 websockets-9.1 zipp-3.5.0\n",
      "\u001b[33mWARNING: You are using pip version 20.2.3; however, version 21.2.4 is available.\n",
      "You should consider upgrading via the '/Users/maria_p/.pyenv/versions/3.8.7/bin/python3.8 -m pip install --upgrade pip' command.\u001b[0m\n"
     ]
    }
   ],
   "source": [
    "! pip install -U notebook-as-pdf"
   ]
  },
  {
   "cell_type": "code",
   "execution_count": 3,
   "metadata": {},
   "outputs": [
    {
     "name": "stdout",
     "output_type": "stream",
     "text": [
      "[W:pyppeteer.command] chromium is already installed.\r\n"
     ]
    }
   ],
   "source": [
    "! pyppeteer-install"
   ]
  },
  {
   "cell_type": "code",
   "execution_count": 3,
   "metadata": {},
   "outputs": [],
   "source": [
    "#Functions describing nodes' relationship \n",
    "\n",
    "def f_inh(y, theta, g):   #Inhibition\n",
    "    y_new = theta**g/(y**g+theta**g)\n",
    "    return y_new                  #monotonically decreasing sigmoidal function\n",
    "    \n",
    "    \n",
    "    \n",
    "def f_ex(y,theta,g): #Exitation\n",
    "    y_new = y**g/(y**g+theta**g)\n",
    "    return y_new              #monotonically increasing sigmoidal function\n",
    "    "
   ]
  },
  {
   "cell_type": "code",
   "execution_count": 4,
   "metadata": {},
   "outputs": [],
   "source": [
    "#Network model\n",
    "\n",
    "def three_nodes_model(y_init, t, g=4, theta= 0.5):\n",
    "        \n",
    "        \n",
    "        y_1_dot = f_inh(y_init[2],theta,g) - y_init[0]\n",
    "        y_2_dot = f_ex(y_init[0], theta,g) - y_init[1]\n",
    "        y_3_dot = f_ex(y_init[1], theta,g) - y_init[2]\n",
    "        \n",
    "        return  y_1_dot,  y_2_dot,  y_3_dot\n",
    "        "
   ]
  },
  {
   "cell_type": "code",
   "execution_count": null,
   "metadata": {},
   "outputs": [],
   "source": []
  },
  {
   "cell_type": "code",
   "execution_count": 5,
   "metadata": {},
   "outputs": [],
   "source": [
    "model_values = integrate.odeint(three_nodes_model, y_init, t)"
   ]
  },
  {
   "cell_type": "code",
   "execution_count": 47,
   "metadata": {},
   "outputs": [
    {
     "data": {
      "text/plain": [
       "2677530"
      ]
     },
     "execution_count": 47,
     "metadata": {},
     "output_type": "execute_result"
    }
   ],
   "source": [
    "np.count_nonzero(np.isnan(model_values))"
   ]
  },
  {
   "cell_type": "code",
   "execution_count": 48,
   "metadata": {},
   "outputs": [],
   "source": [
    "#ToDo: Create data set with random g, thus random oscilattions. \n",
    "\n",
    "#for i in range(100):\n",
    "#  g = np.random.uniform(0,4)\n",
    "    "
   ]
  },
  {
   "cell_type": "code",
   "execution_count": 49,
   "metadata": {},
   "outputs": [],
   "source": [
    "# Save as csv \n",
    "#savetxt('data.csv', model_values, delimiter=',')"
   ]
  },
  {
   "cell_type": "code",
   "execution_count": 8,
   "metadata": {},
   "outputs": [
    {
     "data": {
      "image/png": "[encoded data removed]",
      "text/plain": [
       "<Figure size 432x288 with 1 Axes>"
      ]
     },
     "metadata": {
      "needs_background": "light"
     },
     "output_type": "display_data"
    }
   ],
   "source": [
    "plt.plot(model_values)\n",
    "plt.ylabel('solution y(t)')\n",
    "plt.xlabel('time steps')\n",
    "plt.title(\"bifurcation parameter g=4\")\n",
    "plt.show()"
   ]
  },
  {
   "cell_type": "code",
   "execution_count": null,
   "metadata": {},
   "outputs": [],
   "source": [
    "#Stimulation\n",
    "\n",
    "def stimulation(g_init, z_init, t_c):\n",
    "    z_dot = (-1/t_c)*z[i]\n",
    "    #then inegrate z \n",
    "    g[i] = g_init-z\n",
    "    return g[i]"
   ]
  },
  {
   "cell_type": "code",
   "execution_count": null,
   "metadata": {},
   "outputs": [],
   "source": [
    "model_values"
   ]
  }
 ],
 "metadata": {
  "kernelspec": {
   "display_name": "Python 3",
   "language": "python",
   "name": "python3"
  },
  "language_info": {
   "codemirror_mode": {
    "name": "ipython",
    "version": 3
   },
   "file_extension": ".py",
   "mimetype": "text/x-python",
   "name": "python",
   "nbconvert_exporter": "python",
   "pygments_lexer": "ipython3",
   "version": "3.7.6"
  }
 },
 "nbformat": 4,
 "nbformat_minor": 4
}
